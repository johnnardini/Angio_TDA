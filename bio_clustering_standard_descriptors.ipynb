{
 "cells": [
  {
   "cell_type": "code",
   "execution_count": null,
   "metadata": {
    "collapsed": false,
    "deletable": true,
    "editable": true
   },
   "outputs": [],
   "source": [
    "import numpy as np\n",
    "from mpl_toolkits.mplot3d import Axes3D \n",
    "%matplotlib notebook\n",
    "import matplotlib.pyplot as plt\n",
    "import pandas as pd\n",
    "import glob, pdb, os, sys, cv2\n",
    "from ripser import ripser\n",
    "from persim import plot_diagrams\n",
    "#import gudhi as gd\n",
    "#from angio import angio_abm, radial_persistence, level_set_flooding, Persist_im\n",
    "import matplotlib as mpl\n",
    "from sklearn import svm\n",
    "from sklearn.metrics import confusion_matrix, plot_confusion_matrix, accuracy_score\n",
    "from sklearn.model_selection import train_test_split,cross_val_score\n",
    "\n",
    "\n",
    "from IPython.display import set_matplotlib_formats\n",
    "set_matplotlib_formats('png', 'pdf') \n",
    "\n",
    "from custom_function import *"
   ]
  },
  {
   "cell_type": "code",
   "execution_count": null,
   "metadata": {
    "collapsed": false,
    "deletable": true,
    "editable": true,
    "scrolled": false
   },
   "outputs": [],
   "source": [
    "chi_vec = np.round(np.linspace(0,.5,11),2)\n",
    "hapt_vec = np.round(np.linspace(0,.5,11),2)\n",
    "\n",
    "num_data_sets = 10*len(chi_vec)*len(hapt_vec)\n",
    "\n",
    "#length of sprouts (vessel segments) and tips\n",
    "feature_len = 50\n",
    "\n",
    "### Initialize lists containing the standard descriptor vectors\n",
    "sprouts = []\n",
    "tips = []\n",
    "vessel_length = []\n",
    "\n",
    "x = np.linspace(0,1,201)\n",
    "y = np.linspace(0,1,201)\n",
    "Y,X = np.meshgrid(x,y)\n",
    "\n",
    "num_vecs = 1\n",
    "\n",
    "\n",
    "for i in np.arange(num_vecs):\n",
    "    sprouts.append(np.zeros((num_data_sets,feature_len)))\n",
    "    tips.append(np.zeros((num_data_sets,feature_len)))\n",
    "    vessel_length.append(np.zeros((num_data_sets,1)))\n",
    "\n",
    "#initialize realization, chi, rho, real labels for each simulation    \n",
    "labels = np.zeros((num_data_sets,))\n",
    "chi_real_vec = np.zeros((num_data_sets,))\n",
    "rho_real_vec = np.zeros((num_data_sets,))\n",
    "real_vec = np.zeros((num_data_sets,))\n",
    "    \n",
    "count = 0\n",
    "for i,chi in enumerate(chi_vec):\n",
    "    for j,hapt in enumerate(hapt_vec):\n",
    "        for real in np.arange(10):\n",
    "            \n",
    "            \n",
    "            \n",
    "            mat = np.load(\"results/angio_bio_data_IC_linear_rho_\"+str(hapt)+\"_chi_\"+str(chi)+\"_real_\"+str(real)+\".npy\",allow_pickle=True,encoding=\"latin1\").item()\n",
    "            \n",
    "            \n",
    "            sprout = mat['sprouts'][::len(mat['sprouts'])//feature_len]\n",
    "            sprouts[0][count,:] = sprout[:feature_len]\n",
    "            \n",
    "            tip = mat['active_tips'][::len(mat['active_tips'])//feature_len]\n",
    "            tips[0][count,:] = tip[:feature_len]\n",
    "            \n",
    "            vessel_length[0][count,:] = np.max(X[mat['N']==1])\n",
    "            \n",
    "            chi_real_vec[count] = chi\n",
    "            rho_real_vec[count] = hapt\n",
    "            labels[count] = len(hapt_vec)*i + j\n",
    "            \n",
    "            real_vec[count] = real\n",
    "\n",
    "                \n",
    "            count+=1"
   ]
  },
  {
   "cell_type": "markdown",
   "metadata": {
    "deletable": true,
    "editable": true
   },
   "source": [
    "## Running classification scheme"
   ]
  },
  {
   "cell_type": "code",
   "execution_count": null,
   "metadata": {
    "collapsed": false,
    "deletable": true,
    "editable": true,
    "scrolled": false
   },
   "outputs": [],
   "source": [
    "X_vec = [tips[0],vessel_length[0],sprouts[0],np.hstack((tips[0],vessel_length[0],sprouts[0]))]\n",
    "title_vec = [\"Tips\",\"Vessel Length\",\"Vessel Segments\",\"All\"]\n",
    "title_vec_fig = [\"Tips\",\"Vessel length\",\"Vessel segments\",\"All bio summaries\"]\n",
    "\n",
    "\n",
    "#### perform clustering\n",
    "#filename = \"Classes_\"+title_vec[i]\n",
    "for i,X in enumerate(X_vec):\n",
    "    kmeans_classes,acc,acc_in_sample,centers = clustering_fine_train_test(X,chi_real_vec,rho_real_vec,\n",
    "                                                real_vec,num_clusters=5,\n",
    "                                                filename = \"param_clustering_\"+title_vec[i],title=title_vec_fig[i])\n",
    "\n",
    "    print(title_vec[i] + \", acc = \" + str(acc))\n",
    "\n"
   ]
  },
  {
   "cell_type": "markdown",
   "metadata": {
    "deletable": true,
    "editable": true
   },
   "source": [
    "## Creating Accuracy Table"
   ]
  },
  {
   "cell_type": "code",
   "execution_count": null,
   "metadata": {
    "collapsed": false,
    "deletable": true,
    "editable": true,
    "scrolled": false
   },
   "outputs": [],
   "source": [
    "X_vec = [tips[0],vessel_length[0],sprouts[0],np.hstack((tips[0],vessel_length[0],sprouts[0]))]\n",
    "title_vec = [\"Tips\",\"Vessel Length\",\"Vessel Segments\",\"All\"]\n",
    "title_vec_fig = [\"Tips\",\"Vessel length\",\"Vessel segments\",\"All bio summaries\"]\n",
    "\n",
    "\n",
    "create_latex_table_classification_sort(X_vec,title_vec,chi_real_vec,\n",
    "                                  rho_real_vec,real_vec,num_clusters=5)\n"
   ]
  }
 ],
 "metadata": {
  "kernelspec": {
   "display_name": "Python 3",
   "language": "python",
   "name": "python3"
  },
  "language_info": {
   "codemirror_mode": {
    "name": "ipython",
    "version": 3
   },
   "file_extension": ".py",
   "mimetype": "text/x-python",
   "name": "python",
   "nbconvert_exporter": "python",
   "pygments_lexer": "ipython3",
   "version": "3.8.2"
  }
 },
 "nbformat": 4,
 "nbformat_minor": 4
}
